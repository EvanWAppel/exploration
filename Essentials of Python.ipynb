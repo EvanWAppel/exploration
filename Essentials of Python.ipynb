{
 "cells": [
  {
   "cell_type": "markdown",
   "metadata": {},
   "source": [
    "# Variables and Types\n",
    "\n",
    "We _assign_ data to variables like this:\n",
    "\n",
    "```Python\n",
    "variable = \"data\"\n",
    "```\n",
    "\n",
    "The computer remembers the last value that was assigned to the variable. \n",
    "\n",
    "Variables have [_type_](https://en.wikipedia.org/wiki/Data_type) which dictates how the computer treats it. \n",
    "\n",
    "Here are some examples of type. Put a variable into the print(type()) statement to see the type of the stored variable.\n",
    "\n",
    "[All of these things, _variables_, _types_, _data_ and even the print() and type() functions are objects.](https://en.wikipedia.org/wiki/Object-oriented_programming)"
   ]
  },
  {
   "cell_type": "code",
   "execution_count": null,
   "metadata": {},
   "outputs": [],
   "source": [
    "i = 14\n",
    "f = 5.6\n",
    "s = \"Spam\"\n",
    "dt = '2023-10-31T11:59:00.00000Z'\n",
    "l = ['Apple','Pear','Orange','Kumquat','Lemon']\n",
    "d = {'Jim':23,'Carol':24,'Steve':25}\n",
    "t = range(1,9,1)\n",
    "a = 1\n",
    "b = 1.0\n",
    "c = \"1\"\n",
    "\n",
    "print(type(t))"
   ]
  },
  {
   "cell_type": "markdown",
   "metadata": {},
   "source": [
    "# String Formatting\n",
    "\n",
    "We're eventually going to have to communicate with humans, so making readable statements is important. \n",
    "\n",
    "_String formatting_ is when we insert variables into a string.\n",
    "\n",
    "## The Format Method\n",
    "\n",
    "You can see the format method below. Each variable prints out the same thing."
   ]
  },
  {
   "cell_type": "code",
   "execution_count": null,
   "metadata": {},
   "outputs": [],
   "source": [
    "m = \"My favorite number is {}.\".format(i)\n",
    "m2 = \"My favorite number is {number}.\".format(number = 14)\n",
    "m3 = \"My favorite number is {number}.\".format(number = i)\n",
    "m4 = \"My favorite number is {0}.\".format(i)\n",
    "print(m)"
   ]
  },
  {
   "cell_type": "markdown",
   "metadata": {},
   "source": [
    "## F-strings\n",
    "\n",
    "A nifty shortcut..."
   ]
  },
  {
   "cell_type": "code",
   "execution_count": null,
   "metadata": {},
   "outputs": [],
   "source": [
    "m = f\"My favorite number is {i}.\"\n",
    "\n",
    "print(m)"
   ]
  },
  {
   "cell_type": "markdown",
   "metadata": {},
   "source": [
    "# The \"For Loop\"\n",
    "The _for loop_ is an essential feature of computer languages that leverages the computer's ability to do a simple task over and over again very fast.\n",
    "\n",
    "Most often, we use it to access iterables. An iterable is an object that you can go through item by item.\n"
   ]
  },
  {
   "cell_type": "code",
   "execution_count": null,
   "metadata": {},
   "outputs": [],
   "source": [
    "for i in l:\n",
    "    print(i)"
   ]
  },
  {
   "cell_type": "markdown",
   "metadata": {},
   "source": [
    "The indented part below the \"for\" line is the set of instructions that run for every item in the iterable.\n",
    "\n",
    "We can do math on the variables that come through.\n",
    "\n",
    "range(x,y,z) produces a list of numbers starting at x and ending at y and stepped at z.\n",
    "\n",
    "The ** operator is exponent."
   ]
  },
  {
   "cell_type": "code",
   "execution_count": null,
   "metadata": {},
   "outputs": [],
   "source": [
    "for i in t:\n",
    "    print(i**2)"
   ]
  },
  {
   "cell_type": "markdown",
   "metadata": {},
   "source": [
    "## Nested For Loops"
   ]
  },
  {
   "cell_type": "code",
   "execution_count": null,
   "metadata": {},
   "outputs": [],
   "source": [
    "for i in t:\n",
    "    for ii in l:\n",
    "        print(f\"I have {i} {ii}.\")"
   ]
  },
  {
   "cell_type": "markdown",
   "metadata": {},
   "source": [
    "## Loop a Dictionary\n",
    "\n",
    "Dictionaries are key-value pairs."
   ]
  },
  {
   "cell_type": "code",
   "execution_count": null,
   "metadata": {},
   "outputs": [],
   "source": [
    "for key, value in d.items():\n",
    "    print(f\"Name: {key}, Age: {value}.\")"
   ]
  },
  {
   "cell_type": "markdown",
   "metadata": {},
   "source": [
    "# Getting Data\n",
    "\n",
    "Go to the toolbar and click Terminal >>> New Terminal\n",
    "\n",
    "Mine looks like this, but yours will be different.\n",
    "```powershell\n",
    "PS C:\\Training\\Essentials of Python>\n",
    "```\n",
    "\n",
    "That's the command prompt. \n",
    "\n",
    "Before we interacted with computers with pictures and videos, we interacted \n",
    "\n",
    "- PS means \"PowerShell\", which is one of many different shells. Powershell and Command Prompt are popular on Windows\n",
    "- C: is your current _volume_ it once referred to a specific piece of hardware, but it's now largely symbolic.\n",
    "- \\Training\\Essentials of Python are two nested folders. The one on the furthest right is the one you're in right now.\n",
    "\n",
    "From C to \">\" is a file path. By default, PowerShell tells you what your current file path is in the prompt.\n",
    "\n",
    "But, if you ever get confused, type \"pwd\". This command means \"Present Working Directory\" and will tell you where you are.\n",
    "\n",
    "Now type \"dir\". This command means \"Directory\", an old word for folder, this command will show you the contents of your present folder.\n",
    "\n",
    "Use \"cd\" (\"Change Directory\") to navigate. \n",
    "\n",
    "\"cd <folder name>\" to go into a folder. \n",
    "\n",
    "\"cd ..\" is the \"back button\". \n",
    "\n",
    "\"cd ~\" takes you \"home\".\n",
    "\n",
    "\n",
    "\n"
   ]
  },
  {
   "cell_type": "code",
   "execution_count": null,
   "metadata": {},
   "outputs": [],
   "source": []
  },
  {
   "cell_type": "markdown",
   "metadata": {},
   "source": [
    "# Manipulating Data"
   ]
  },
  {
   "cell_type": "code",
   "execution_count": null,
   "metadata": {},
   "outputs": [],
   "source": []
  },
  {
   "cell_type": "markdown",
   "metadata": {},
   "source": [
    "# HTTP and API Calls"
   ]
  }
 ],
 "metadata": {
  "kernelspec": {
   "display_name": "Python 3",
   "language": "python",
   "name": "python3"
  },
  "language_info": {
   "codemirror_mode": {
    "name": "ipython",
    "version": 3
   },
   "file_extension": ".py",
   "mimetype": "text/x-python",
   "name": "python",
   "nbconvert_exporter": "python",
   "pygments_lexer": "ipython3",
   "version": "3.10.5"
  },
  "orig_nbformat": 4
 },
 "nbformat": 4,
 "nbformat_minor": 2
}
